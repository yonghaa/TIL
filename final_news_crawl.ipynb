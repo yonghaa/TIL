{
 "cells": [
  {
   "cell_type": "code",
   "execution_count": 1,
   "id": "8c42c943",
   "metadata": {},
   "outputs": [],
   "source": [
    "from selenium.webdriver.common.by import By\n",
    "from selenium.webdriver.support.ui import WebDriverWait\n",
    "from selenium.webdriver.support import expected_conditions as EC\n",
    "import time\n",
    "import pandas as pd\n",
    "from urllib.request import urlretrieve\n",
    "import re"
   ]
  },
  {
   "cell_type": "markdown",
   "id": "65236b28",
   "metadata": {},
   "source": [
    "# 뉴스 스크래핑"
   ]
  },
  {
   "cell_type": "code",
   "execution_count": null,
   "id": "1c4c2352",
   "metadata": {},
   "outputs": [],
   "source": [
    "posts = []\n",
    "news_category = {\n",
    "    100: '정치',\n",
    "    101: '경제',\n",
    "    102: '사회',\n",
    "    103: '생활/문화',\n",
    "    104: '세계',\n",
    "    105: 'IT/과학',\n",
    "}\n",
    "for i in range(100, 106):\n",
    "    category = news_category.get(i)\n",
    "    url =f'https://news.naver.com/main/main.naver?mode=LSD&mid=shm&sid1={i}#&date=%2000:00:00&page=1'\n",
    "    driver = webdriver.Chrome()\n",
    "    driver.get(url)\n",
    "    post_list = driver.find_elements(By.XPATH, '//*[@id=\"section_body\"]/ul/li')\n",
    "    for k in post_list:\n",
    "        post = k.find_element(By.XPATH, 'dl/dt[2]/a')\n",
    "        news_title = post.text\n",
    "        link = post.get_attribute('href')\n",
    "        try:\n",
    "            news_image = k.find_element(By.XPATH, 'dl/dt[1]/a/img')\n",
    "            news_image_url = news_image.get_attribute('src')\n",
    "            match = re.search(r'(\\d+).jpg', news_image_url)\n",
    "            if match:\n",
    "                news_image_name = match.group(1) + '.jpg'\n",
    "            else:\n",
    "                news_image_name = ''  # 추출 실패 시 빈 문자열로 설정\n",
    "            print(news_image_name)\n",
    "            news_image = news_image_url.replace('https', 'http')\n",
    "            news_image_path = f'/static/images/news_image/{news_image_name}'\n",
    "            urlretrieve(news_image, f'C:/Users/user/PycharmProjects/final_project_web/static/images/news_image/{news_image_name}')\n",
    "        except:\n",
    "            news_image_path = ''\n",
    "        driver.execute_script(f\"window.open('{link}', '_blank');\")\n",
    "        driver.switch_to.window(driver.window_handles[1])\n",
    "        time.sleep(1)\n",
    "        create_dt=driver.find_element(By.XPATH, '//*[@id=\"ct\"]/div[1]/div[3]/div[1]/div/span').get_attribute('data-date-time')\n",
    "        news_name=driver.find_element(By.XPATH,'//*[@id=\"ct\"]/div[1]/div[1]/a/img[1]').get_attribute('title')\n",
    "        post_origin = driver.find_element(By.XPATH, '//*[@id=\"dic_area\"]')\n",
    "        post_origin_text = post_origin.text\n",
    "        posts.append([create_dt, news_name, category, news_image_path, news_title, post_origin_text, link ])\n",
    "        driver.close()\n",
    "        driver.switch_to.window(driver.window_handles[0])\n",
    "    driver.quit()"
   ]
  },
  {
   "cell_type": "markdown",
   "id": "82176408",
   "metadata": {},
   "source": [
    "# 네이버 뉴스 데이터 DB 저장"
   ]
  },
  {
   "cell_type": "code",
   "execution_count": null,
   "id": "37767751",
   "metadata": {},
   "outputs": [],
   "source": [
    "import psycopg2\n",
    "from datetime import datetime\n",
    "# 여러분의 데이터베이스 연결 정보\n",
    "db_connection = psycopg2.connect(\n",
    "    host=\"localhost\",\n",
    "    dbname='final_project',\n",
    "    user='postgres',\n",
    "    password=\"sesac0916\",\n",
    "    port=5432\n",
    ")\n",
    "# 데이터베이스 커서 생성\n",
    "cursor = db_connection.cursor()\n",
    "for news_item in posts:\n",
    "    try:\n",
    "        cursor.execute(\"\"\"\n",
    "            INSERT INTO final_project.news_information\n",
    "            (create_dt, media_company, news_genre, news_image_path, news_title, news_origin, news_url, news_summary)\n",
    "            VALUES (%s, %s, %s, %s, %s, %s, %s, %s)\n",
    "            ON CONFLICT (news_url) DO NOTHING;\n",
    "        \"\"\", (news_item[0], news_item[1], news_item[2], news_item[3], news_item[4], news_item[5], news_item[6], ''))\n",
    "    except Exception as e:\n",
    "        print(f\"Error inserting news_item: {news_item}\")\n",
    "        print(f\"Error message: {e}\")\n",
    "    time.sleep(0.3)\n",
    "# 변경사항을 저장\n",
    "db_connection.commit()\n",
    "# 연결 종료\n",
    "cursor.close()\n",
    "db_connection.close()"
   ]
  },
  {
   "cell_type": "markdown",
   "id": "2759393c",
   "metadata": {},
   "source": [
    "# 파인튜닝한 뉴스 요약 모델에 DB에 저장된 데이터 불러와 재저장"
   ]
  },
  {
   "cell_type": "code",
   "execution_count": null,
   "id": "5a2052d4",
   "metadata": {},
   "outputs": [],
   "source": [
    "import psycopg2\n",
    "from transformers import PreTrainedTokenizerFast, BartForConditionalGeneration\n",
    "# 파인 튜닝한 모델 가져오기\n",
    "saved_model_path = r\"C:\\Users\\user\\Downloads\\bart_summarization_model_v2-20231222T004142Z-001\\bart_summarization_model_v2\"\n",
    "tokenizer = PreTrainedTokenizerFast.from_pretrained('gogamza/kobart-summarization')\n",
    "model = BartForConditionalGeneration.from_pretrained(saved_model_path)\n",
    "# 요약 함수 설정\n",
    "def summarize(text):\n",
    "    inputs = tokenizer.encode_plus(text, return_tensors='pt', max_length=1024, truncation=True)\n",
    "    summary_ids = model.generate(inputs['input_ids'], length_penalty=1.0, num_beams=4, max_length=250, early_stopping=True)\n",
    "    return tokenizer.decode(summary_ids[0], skip_special_tokens=True)\n",
    "# 나의 postgresql 연결하기\n",
    "db_connection = psycopg2.connect(\n",
    "    host=\"localhost\",\n",
    "    dbname='final_project',\n",
    "    user='postgres',\n",
    "    password=\"sesac0916\",\n",
    "    port=5432\n",
    ")\n",
    "cursor = db_connection.cursor()\n",
    "# 뉴스 요약문이 빈 행의 id와 본문 만 가져오기\n",
    "cursor.execute(\"SELECT id, news_origin FROM final_project.news_information WHERE news_summary = ''\")\n",
    "rows = cursor.fetchall()\n",
    "for row in rows:\n",
    "    news_id, news_text = row\n",
    "    summary = summarize(news_text)  # 뉴스 요약 함수로 요약 실행\n",
    "    # 요약된 뉴스를 id가 같은 행에 news_summary 업데이트 하기\n",
    "    cursor.execute(\n",
    "        \"UPDATE final_project.news_information SET news_summary = %s WHERE id = %s\",\n",
    "        (summary, news_id)\n",
    "    )\n",
    "# 변경 사항 커밋 및 연결 종료\n",
    "    db_connection.commit()\n",
    "cursor.close()"
   ]
  }
 ],
 "metadata": {
  "kernelspec": {
   "display_name": "Python 3 (ipykernel)",
   "language": "python",
   "name": "python3"
  },
  "language_info": {
   "codemirror_mode": {
    "name": "ipython",
    "version": 3
   },
   "file_extension": ".py",
   "mimetype": "text/x-python",
   "name": "python",
   "nbconvert_exporter": "python",
   "pygments_lexer": "ipython3",
   "version": "3.11.4"
  }
 },
 "nbformat": 4,
 "nbformat_minor": 5
}
