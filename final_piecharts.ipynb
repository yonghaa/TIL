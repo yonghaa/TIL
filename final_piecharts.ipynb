{
 "cells": [
  {
   "cell_type": "code",
   "execution_count": 2,
   "id": "bcb84f8a",
   "metadata": {},
   "outputs": [
    {
     "data": {
      "text/html": [
       "\n",
       "        <iframe\n",
       "            width=\"100%\"\n",
       "            height=\"650\"\n",
       "            src=\"http://127.0.0.1:8058/\"\n",
       "            frameborder=\"0\"\n",
       "            allowfullscreen\n",
       "            \n",
       "        ></iframe>\n",
       "        "
      ],
      "text/plain": [
       "<IPython.lib.display.IFrame at 0x2432186d1d0>"
      ]
     },
     "metadata": {},
     "output_type": "display_data"
    }
   ],
   "source": [
    "from dash import Dash, dcc, html, Input, Output\n",
    "import pandas as pd\n",
    "import psycopg2\n",
    "from kiwipiepy import Kiwi\n",
    "import plotly.express as px\n",
    "\n",
    "# 데이터베이스 연결\n",
    "db_connection = psycopg2.connect(\n",
    "    host=\"localhost\",\n",
    "    dbname=\"final_project\",\n",
    "    user=\"postgres\",\n",
    "    password=\"sesac0916\",\n",
    "    port=5432\n",
    ")\n",
    "\n",
    "cursor = db_connection.cursor()\n",
    "# SELECT 쿼리 실행\n",
    "cursor.execute(\"SELECT * FROM final_project.news_information;\")\n",
    "# 결과 가져오기\n",
    "result = cursor.fetchall()\n",
    "# 연결 종료\n",
    "cursor.close()\n",
    "db_connection.close()\n",
    "\n",
    "# 데이터프레임으로 불러오기\n",
    "df_news = pd.DataFrame(result, columns=['id', 'create_dt', 'media_company', 'news_genre', 'news_image_path', 'news_title', 'news_origin', 'news_url', 'news_summary'])\n",
    "\n",
    "# 'create_dt' 열을 datetime 형식으로 변환\n",
    "df_news['create_dt'] = pd.to_datetime(df_news['create_dt'])\n",
    "\n",
    "# Kiwi 형태소 분석기 초기화\n",
    "kiwi = Kiwi()\n",
    "\n",
    "# Dash 앱 생성\n",
    "app = Dash(__name__)\n",
    "\n",
    "# 뉴스 장르와 날짜의 유니크 값들을 추출\n",
    "unique_genres = df_news['news_genre'].unique()\n",
    "\n",
    "app.layout = html.Div([\n",
    "    dcc.Graph(id=\"graph\"),\n",
    "    html.P(\"뉴스 장르:\"),\n",
    "    dcc.Dropdown(id='genres',\n",
    "        options=[{'label': genre, 'value': genre} for genre in unique_genres],\n",
    "        value='',  # or value=unique_genres[0] to set the first genre as default\n",
    "        clearable=False\n",
    "    ),\n",
    "])\n",
    "\n",
    "@app.callback(\n",
    "    Output(\"graph\", \"figure\"), \n",
    "    Input(\"genres\", \"value\"))\n",
    "def generate_chart(selected_genre):\n",
    "    if selected_genre == '':\n",
    "        df_selected_data = df_news\n",
    "    else:\n",
    "        df_selected_data = df_news[df_news['news_genre'] == selected_genre]\n",
    "\n",
    "    # Kiwi 형태소 분석 적용\n",
    "    words = kiwi.tokenize(' '.join(df_selected_data['news_title']))\n",
    "    words = [token.form for token in words if len(token.form) >= 2 and token.tag in ['NNG', 'NNP', 'NNB', 'NR', 'NP']]\n",
    "    word_counts = pd.Series(words).value_counts().reset_index(name='n')\n",
    "    \n",
    "    # Select top 5 words for the pie chart\n",
    "    top_words = word_counts.head(5)\n",
    "\n",
    "    fig = px.pie(top_words, values='n', names='index', hole=.3, title=f\"{selected_genre} 장르의 상위 5개 단어 빈도수\")\n",
    "    \n",
    "    return fig\n",
    "\n",
    "app.run_server(debug=True, port=8058)\n"
   ]
  },
  {
   "cell_type": "code",
   "execution_count": null,
   "id": "4b91ecd9",
   "metadata": {},
   "outputs": [],
   "source": []
  }
 ],
 "metadata": {
  "kernelspec": {
   "display_name": "Python 3 (ipykernel)",
   "language": "python",
   "name": "python3"
  },
  "language_info": {
   "codemirror_mode": {
    "name": "ipython",
    "version": 3
   },
   "file_extension": ".py",
   "mimetype": "text/x-python",
   "name": "python",
   "nbconvert_exporter": "python",
   "pygments_lexer": "ipython3",
   "version": "3.11.4"
  }
 },
 "nbformat": 4,
 "nbformat_minor": 5
}
