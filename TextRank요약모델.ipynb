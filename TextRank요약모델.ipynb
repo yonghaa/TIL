{
 "cells": [
  {
   "cell_type": "markdown",
   "id": "1391500b",
   "metadata": {},
   "source": [
    "# TextRank로 크롤링한 뉴스 기사 요약 모델 만들기"
   ]
  },
  {
   "cell_type": "code",
   "execution_count": 23,
   "id": "fc2da48c",
   "metadata": {},
   "outputs": [],
   "source": [
    "from selenium import webdriver\n",
    "from selenium.webdriver.common.by import By\n",
    "from selenium.webdriver.support.ui import WebDriverWait\n",
    "from selenium.webdriver.support import expected_conditions as EC\n",
    "import time\n",
    "import pandas as pd\n",
    "from urllib.request import urlretrieve\n",
    "import re\n",
    "from selenium.webdriver.common.action_chains import ActionChains\n",
    "from bs4 import BeautifulSoup\n",
    "import pandas as pd"
   ]
  },
  {
   "cell_type": "code",
   "execution_count": 21,
   "id": "fc000079",
   "metadata": {},
   "outputs": [],
   "source": [
    "import psycopg2\n",
    "from datetime import datetime"
   ]
  },
  {
   "cell_type": "code",
   "execution_count": 22,
   "id": "0a908afb",
   "metadata": {},
   "outputs": [],
   "source": [
    "db_connection = psycopg2.connect(\n",
    "    host=\"localhost\", #ip\n",
    "    dbname=\"final_project\",\n",
    "    user=\"postgres\",\n",
    "    password=\"sesac0916\",\n",
    "    port=5432\n",
    ")\n",
    "\n",
    "cursor = db_connection.cursor()\n",
    "# SELECT 쿼리 실행\n",
    "cursor.execute(\"SELECT * FROM final_project.politics;\")\n",
    "# 결과 가져오기\n",
    "result = cursor.fetchall()\n",
    "# 결과 출력 (예시로 처음 5개만 출력)\n",
    "# 연결 종료\n",
    "cursor.close()\n",
    "db_connection.close()"
   ]
  },
  {
   "cell_type": "code",
   "execution_count": 27,
   "id": "2b80b48b",
   "metadata": {},
   "outputs": [],
   "source": [
    "df=pd.DataFrame(result, columns=['id', 'create_dt', 'news_name', 'news_genre', 'news_image_path', 'news_title', 'news_origin', 'news_url', 'news_summary'])"
   ]
  },
  {
   "cell_type": "code",
   "execution_count": 25,
   "id": "aa331b79",
   "metadata": {},
   "outputs": [],
   "source": [
    "from konlpy.tag import Kkma\n",
    "from konlpy.tag import Twitter\n",
    "from sklearn.feature_extraction.text import TfidfVectorizer\n",
    "from sklearn.feature_extraction.text import CountVectorizer\n",
    "from sklearn.preprocessing import normalize\n",
    "import numpy as np"
   ]
  },
  {
   "cell_type": "code",
   "execution_count": 46,
   "id": "cd51aa3f",
   "metadata": {},
   "outputs": [],
   "source": [
    "kkma = Kkma()\n",
    "\n",
    "# text를 입력받아 kkma.sentences()를 이용해 문장단위로 나눈 뒤 sentences로 리턴\n",
    "def text2sentences(text):\n",
    "    sentences = kkma.sentences(text)\n",
    "    for idx in range(0, len(sentences)):\n",
    "        if len(sentences[idx]) <= 10:\n",
    "            sentences[idx-1] += (' ' + senteces[idx])\n",
    "            sentences[idx] = ''\n",
    "    return sentences"
   ]
  },
  {
   "cell_type": "code",
   "execution_count": 40,
   "id": "e18c6702",
   "metadata": {},
   "outputs": [],
   "source": [
    "news_content = df['news_origin']"
   ]
  },
  {
   "cell_type": "code",
   "execution_count": 44,
   "id": "1c6ccdfc",
   "metadata": {},
   "outputs": [
    {
     "data": {
      "text/plain": [
       "0      비주류, 당 지도부 희생 압박…금융 전문가 출신 洪 \"객관적 주장도 당리당략 이유로...\n",
       "1      39세 첫 당선 후 이번이 7선 도전\\n\\n이인제 전 의원이 지난 1월 6일 오후 ...\n",
       "2      빌렘 국왕 초청 국빈만찬에 히딩크 전 감독 참석\\n尹 \"박지성 유럽 커리어 시작과 ...\n",
       "3      비윤계도 거취 의견 수렴…14일 최고위서 거취 표명\\n‘사퇴·험지 출마’ ‘대표 유...\n",
       "4      이준석 전 국민의힘 대표 페이스북 글\\n이준석 전 국민의힘 대표가 11월 30일 국...\n",
       "                             ...                        \n",
       "193    국민의힘 내부에선 12일 총선 불출마 결단을 한 장제원 의원과 같은 친윤(親윤석열)...\n",
       "194    CBS노컷뉴스 취재진이 입수한, 정의기억연대에 통일부가 보낸 사전접촉신고 수리 거부...\n",
       "195    4·10 총선 레이스 시작\\n국회서 공식 불출마 선언…중진들 ‘거부’ 명분 사라져\\...\n",
       "196    선거구 모르는 채 예비후보 등록‥정치 신인들은 '난감'\\nMBC뉴스\\n재생\\n7,4...\n",
       "197    장제원 국민의힘 의원이 12일 국회 소통관에서 22대 총선 불출마 선언 기자회견을 ...\n",
       "Name: news_origin, Length: 198, dtype: object"
      ]
     },
     "execution_count": 44,
     "metadata": {},
     "output_type": "execute_result"
    }
   ],
   "source": [
    "news_content"
   ]
  },
  {
   "cell_type": "code",
   "execution_count": 47,
   "id": "c374059e",
   "metadata": {},
   "outputs": [],
   "source": [
    "sentences = text2sentences(news_content[0])"
   ]
  },
  {
   "cell_type": "code",
   "execution_count": 51,
   "id": "7ab7d48c",
   "metadata": {},
   "outputs": [
    {
     "name": "stderr",
     "output_type": "stream",
     "text": [
      "<>:5: SyntaxWarning: \"is not\" with a literal. Did you mean \"!=\"?\n",
      "<>:5: SyntaxWarning: \"is not\" with a literal. Did you mean \"!=\"?\n",
      "C:\\Users\\user\\anaconda3\\Lib\\site-packages\\konlpy\\tag\\_okt.py:17: UserWarning: \"Twitter\" has changed to \"Okt\" since KoNLPy v0.4.5.\n",
      "  warn('\"Twitter\" has changed to \"Okt\" since KoNLPy v0.4.5.')\n",
      "C:\\Users\\user\\AppData\\Local\\Temp\\ipykernel_15664\\2706461304.py:5: SyntaxWarning: \"is not\" with a literal. Did you mean \"!=\"?\n",
      "  if sentence is not '':\n"
     ]
    }
   ],
   "source": [
    "twitter = Twitter()\n",
    "def get_nouns(sentences):\n",
    "    nouns = []\n",
    "    for sentence in sentences:\n",
    "        if sentence is not '':\n",
    "            nouns.append(' '.join([noun for noun in twitter.nouns(str(sentence))\n",
    "                                  ]))\n",
    "    return nouns"
   ]
  },
  {
   "cell_type": "code",
   "execution_count": 52,
   "id": "89bf8d11",
   "metadata": {},
   "outputs": [],
   "source": [
    "nouns = get_nouns(sentences)"
   ]
  },
  {
   "cell_type": "code",
   "execution_count": 53,
   "id": "544cd018",
   "metadata": {},
   "outputs": [
    {
     "data": {
      "text/plain": [
       "['비주류 당 도부 희생 압박 금융 전문가 출신 객관 주장 리 당략 이유 더 불어 민주당 홍성 국 의원 내년 총선 불출 선언',\n",
       " '미래 셋 대우 현 미래 셋 증권 사장 출신 총선 세종 시 갑 전략 공천 홍 의원 불출 결심 이유 저 지난 간 국회의원 나름 시각 우리 사회 노력 지금 후진 적 정치 구조 가지 한계 성과 내지 고 말 고 토로',\n",
       " '홍 의원 불 출마 선언문 통해 저 지난 간 국회의원 나름 시각 우리 사회 노력 며 전환 경고 대안 것 제 정치 목적 이자 소임 생각 고 말',\n",
       " '그 한국 사회 양극화 해소 저 출생 고령화 기후변화 국토 균형 발전 산업 구조 전환 국민 연금 건강 보험 개혁 등 혁명 수준 문제 산적 며 때로는 객관 주장 도 리 당략 이유 고',\n",
       " '제로 섬 정치 오히려 사회 불평등 심화 민주주의 위기 며 윤석 열 정부 이념 우리나라 후진 고 지적',\n",
       " '한계 대해 시간 고민 저 국회의원 국민 직접 소통 우리나라 미래 미래 학 연구자 로 다시 고 말',\n",
       " '홍 의원 제 수 분야 역할 것 국가 위 더 나은 길 라며 민주 당원 정책 우리 당 사회 제안 인 싱크 탱크 역할 고',\n",
       " '그 제 수 분야 역할 것 국가 위 더 나은 길이 생각 며 세종 시민 당원 동지 여러분 그동안 저 사랑 진심',\n",
       " '사명 가지 못 데 대해 사죄 말씀 고',\n",
       " '총선',\n",
       " '전날 국민 힘 중진 장 제원 의원 날 홍 의원 불출 선언 당 혁신 경쟁 본격 전개 것',\n",
       " '다만 국민 힘 선 중 진급 불 출마 험지 출마 논의 것 달리 민주당 선 초선 의원 몇몇 불출 고심 중인 것 혁신 경쟁 지적',\n",
       " '현재 민주당 불 출마 선언 의원 반기 국회의장 박 병석 의원 선 제외 상호 의원 선 오 영 환 강 민정 초 선 의원 홍 의원 명',\n",
       " '민주당 비주류 혁신 실패 총선 필 패 를 명분 당 도부 희생 요구 목소리',\n",
       " '당내 비주류 의원 모임 원칙 상식 소속 응 천 의원 전날 라디오 인터뷰 국민 힘 인 요한 혁신 위 보고서 대해 앞 질서 반영 고 진압된 것 보이 찻잔 속 태풍 것 갑자기 장 의원 일대 돌풍 일',\n",
       " '정치 게 순간 고 당내 변화 요구',\n",
       " '민주당 초선 의원 소 영 의원 오전 문화 방송 라디오 김 종배 시선집중 민주당 모습 것 라며 사람 모습 보이 또 내 가지 권력 모습 민주당 필요 생각 고 말',\n",
       " '더 불어 민주당 홍성 국 의원 홍 의원 페이스 북 갈무리']"
      ]
     },
     "execution_count": 53,
     "metadata": {},
     "output_type": "execute_result"
    }
   ],
   "source": [
    "nouns"
   ]
  },
  {
   "cell_type": "code",
   "execution_count": 55,
   "id": "bf424113",
   "metadata": {},
   "outputs": [
    {
     "name": "stdout",
     "output_type": "stream",
     "text": [
      "비주류, 당 지도부 희생 압박… 금융 전문가 출신 洪 \" 객관적 주장도 당리 당략 이유로 폄하돼\" 더 불어 민주당 홍성 국 의원이 내년 총선 불출마를 선언했다.\n",
      "\n",
      "비주류 당 도부 희생 압박 금융 전문가 출신 객관 주장 리 당략 이유 더 불어 민주당 홍성 국 의원 내년 총선 불출 선언\n"
     ]
    }
   ],
   "source": [
    "nouns = get_nouns(sentences)\n",
    "print(sentences[0])\n",
    "print()\n",
    "print(nouns[0])"
   ]
  },
  {
   "cell_type": "code",
   "execution_count": 56,
   "id": "d445b721",
   "metadata": {},
   "outputs": [],
   "source": [
    "tfidf = TfidfVectorizer()\n",
    "cnt_vec = CountVectorizer()\n",
    "graph_sentence = []"
   ]
  },
  {
   "cell_type": "code",
   "execution_count": 57,
   "id": "50af79ca",
   "metadata": {},
   "outputs": [],
   "source": [
    "def build_sent_graph(sentence):\n",
    "    tfidf_mat = tfidf.fit_transform(sentence).toarray()\n",
    "    graph_sentence = np.dot(tfidf_mat, tfidf_mat.T)\n",
    "    return graph_sentence\n",
    "sent_graph = build_sent_graph(nouns)"
   ]
  },
  {
   "cell_type": "code",
   "execution_count": 58,
   "id": "bdafb77f",
   "metadata": {
    "scrolled": true
   },
   "outputs": [
    {
     "name": "stdout",
     "output_type": "stream",
     "text": [
      "[[1.         0.14424148 0.0161064  0.16026822 0.         0.\n",
      "  0.01688703 0.         0.         0.19458605 0.14729162 0.07874228\n",
      "  0.15263239 0.30479111 0.07447675 0.         0.08491931 0.29172376]\n",
      " [0.14424148 1.         0.29016161 0.07447216 0.0989913  0.25583673\n",
      "  0.07122544 0.04415216 0.06057035 0.14465731 0.06679431 0.03878753\n",
      "  0.0603172  0.03838065 0.02895722 0.05163555 0.04265292 0.04153808]\n",
      " [0.0161064  0.29016161 1.         0.06416176 0.07161603 0.04642615\n",
      "  0.09290332 0.04653518 0.         0.         0.04071619 0.0998436\n",
      "  0.12172707 0.         0.03777053 0.06735113 0.05563459 0.05418044]\n",
      " [0.16026822 0.07447216 0.06416176 1.         0.02539182 0.02537033\n",
      "  0.02448315 0.         0.         0.         0.03043872 0.02306549\n",
      "  0.         0.         0.01882439 0.         0.         0.        ]\n",
      " [0.         0.0989913  0.07161603 0.02539182 1.         0.06247563\n",
      "  0.03449798 0.         0.         0.         0.         0.05679986\n",
      "  0.         0.         0.         0.07323626 0.         0.        ]\n",
      " [0.         0.25583673 0.04642615 0.02537033 0.06247563 1.\n",
      "  0.         0.         0.08583607 0.         0.04285338 0.03247293\n",
      "  0.         0.         0.06392787 0.         0.         0.        ]\n",
      " [0.01688703 0.07122544 0.09290332 0.02448315 0.03449798 0.\n",
      "  1.         0.36228813 0.         0.         0.04268958 0.0161744\n",
      "  0.08248824 0.         0.03960115 0.         0.06633644 0.0568064 ]\n",
      " [0.         0.04415216 0.04653518 0.         0.         0.\n",
      "  0.36228813 1.         0.         0.         0.         0.\n",
      "  0.         0.         0.         0.         0.03500142 0.        ]\n",
      " [0.         0.06057035 0.         0.         0.         0.08583607\n",
      "  0.         0.         1.         0.         0.         0.\n",
      "  0.         0.         0.06368905 0.         0.05942382 0.        ]\n",
      " [0.19458605 0.14465731 0.         0.         0.         0.\n",
      "  0.         0.         0.         1.         0.         0.\n",
      "  0.         0.26532122 0.         0.         0.         0.        ]\n",
      " [0.14729162 0.06679431 0.04071619 0.03043872 0.         0.04285338\n",
      "  0.04268958 0.         0.         0.         1.         0.23894586\n",
      "  0.26122593 0.06525629 0.22324533 0.         0.06124934 0.14124933]\n",
      " [0.07874228 0.03878753 0.0998436  0.02306549 0.05679986 0.03247293\n",
      "  0.0161744  0.         0.         0.         0.23894586 1.\n",
      "  0.18871629 0.0856739  0.08975114 0.         0.12062471 0.09820187]\n",
      " [0.15263239 0.0603172  0.12172707 0.         0.         0.\n",
      "  0.08248824 0.         0.         0.         0.26122593 0.18871629\n",
      "  1.         0.0369487  0.19026857 0.         0.17764198 0.31851108]\n",
      " [0.30479111 0.03838065 0.         0.         0.         0.\n",
      "  0.         0.         0.         0.26532122 0.06525629 0.0856739\n",
      "  0.0369487  1.         0.08879559 0.14067701 0.08275243 0.06361279]\n",
      " [0.07447675 0.02895722 0.03777053 0.01882439 0.         0.06392787\n",
      "  0.03960115 0.         0.06368905 0.         0.22324533 0.08975114\n",
      "  0.19026857 0.08879559 1.         0.08064848 0.12094779 0.13103047]\n",
      " [0.         0.05163555 0.06735113 0.         0.07323626 0.\n",
      "  0.         0.         0.         0.         0.         0.\n",
      "  0.         0.14067701 0.08064848 1.         0.         0.        ]\n",
      " [0.08491931 0.04265292 0.05563459 0.         0.         0.\n",
      "  0.06633644 0.03500142 0.05942382 0.         0.06124934 0.12062471\n",
      "  0.17764198 0.08275243 0.12094779 0.         1.         0.18358217]\n",
      " [0.29172376 0.04153808 0.05418044 0.         0.         0.\n",
      "  0.0568064  0.         0.         0.         0.14124933 0.09820187\n",
      "  0.31851108 0.06361279 0.13103047 0.         0.18358217 1.        ]]\n"
     ]
    }
   ],
   "source": [
    "print(sent_graph)"
   ]
  },
  {
   "cell_type": "code",
   "execution_count": 59,
   "id": "8e4eea80",
   "metadata": {},
   "outputs": [],
   "source": [
    "def build_words_graph(sentence):\n",
    "    cnt_vec_mat = normalize(cnt_vec.fit_transform(sentence).toarray().astype(float), axis=0)\n",
    "    vocab = cnt_vec.vocabulary_\n",
    "    return np.dot(cnt_vec_mat.T, cnt_vec_mat), {vocab[word] : word for word in vocab}\n",
    "\n",
    "words_graph, idx2word = build_words_graph(nouns)"
   ]
  },
  {
   "cell_type": "code",
   "execution_count": 60,
   "id": "fc21ff74",
   "metadata": {},
   "outputs": [
    {
     "name": "stdout",
     "output_type": "stream",
     "text": [
      "[[1.         0.         0.         ... 0.         0.40824829 0.        ]\n",
      " [0.         1.         0.         ... 0.70710678 0.         0.        ]\n",
      " [0.         0.         1.         ... 0.         0.         0.        ]\n",
      " ...\n",
      " [0.         0.70710678 0.         ... 1.         0.         0.5       ]\n",
      " [0.40824829 0.         0.         ... 0.         1.         0.        ]\n",
      " [0.         0.         0.         ... 0.5        0.         1.        ]]\n",
      "\n",
      "{74: '비주류', 40: '도부', 169: '희생', 102: '압박', 22: '금융', 126: '전문가', 153: '출신', 4: '객관', 136: '주장', 35: '당략', 119: '이유', 71: '불어', 58: '민주당', 167: '홍성', 117: '의원', 27: '내년', 150: '총선', 72: '불출', 86: '선언', 55: '미래', 38: '대우', 139: '증권', 78: '사장', 89: '세종', 125: '전략', 12: '공천', 6: '결심', 141: '지난', 17: '국회의원', 25: '나름', 95: '시각', 112: '우리', 80: '사회', 29: '노력', 140: '지금', 168: '후진', 130: '정치', 13: '구조', 0: '가지', 160: '한계', 88: '성과', 28: '내지', 156: '토로', 151: '출마', 87: '선언문', 157: '통해', 127: '전환', 7: '경고', 37: '대안', 52: '목적', 120: '이자', 91: '소임', 85: '생각', 161: '한국', 103: '양극화', 162: '해소', 152: '출생', 9: '고령화', 23: '기후변화', 16: '국토', 20: '균형', 62: '발전', 81: '산업', 15: '국민', 107: '연금', 5: '건강', 68: '보험', 3: '개혁', 164: '혁명', 93: '수준', 53: '문제', 82: '산적', 43: '때로는', 131: '제로', 109: '오히려', 73: '불평등', 100: '심화', 59: '민주주의', 115: '위기', 116: '윤석', 128: '정부', 118: '이념', 113: '우리나라', 142: '지적', 39: '대해', 96: '시간', 10: '고민', 143: '직접', 92: '소통', 106: '연구자', 32: '다시', 70: '분야', 105: '역할', 14: '국가', 26: '나은', 45: '라며', 57: '민주', 36: '당원', 129: '정책', 132: '제안', 101: '싱크', 155: '탱크', 24: '길이', 97: '시민', 42: '동지', 104: '여러분', 21: '그동안', 76: '사랑', 145: '진심', 77: '사명', 79: '사죄', 46: '말씀', 124: '전날', 138: '중진', 134: '제원', 165: '혁신', 8: '경쟁', 69: '본격', 123: '전개', 31: '다만', 144: '진급', 163: '험지', 30: '논의', 33: '달리', 149: '초선', 48: '몇몇', 11: '고심', 137: '중인', 166: '현재', 60: '반기', 18: '국회의장', 65: '병석', 133: '제외', 84: '상호', 56: '민정', 99: '실패', 47: '명분', 110: '요구', 51: '목소리', 34: '당내', 50: '모임', 114: '원칙', 83: '상식', 90: '소속', 44: '라디오', 121: '인터뷰', 111: '요한', 66: '보고서', 147: '질서', 61: '반영', 146: '진압된', 67: '보이', 148: '찻잔', 154: '태풍', 2: '갑자기', 122: '일대', 41: '돌풍', 94: '순간', 64: '변화', 108: '오전', 54: '문화', 63: '방송', 135: '종배', 98: '시선집중', 49: '모습', 75: '사람', 19: '권력', 159: '필요', 158: '페이스', 1: '갈무리'}\n"
     ]
    }
   ],
   "source": [
    "print(words_graph)\n",
    "print()\n",
    "print(idx2word)"
   ]
  },
  {
   "cell_type": "markdown",
   "id": "4fce68dd",
   "metadata": {},
   "source": [
    "# TextRank 구현하기"
   ]
  },
  {
   "cell_type": "code",
   "execution_count": 61,
   "id": "daf20a48",
   "metadata": {},
   "outputs": [],
   "source": [
    "def get_ranks(graph, d=0.85): # d = damping factor\n",
    "    A = graph\n",
    "    matrix_size = A.shape[0]\n",
    "    for id in range(matrix_size):\n",
    "        A[id, id] = 0 # diagonal 부분을 0으로\n",
    "        link_sum = np.sum(A[:,id]) # A[:, id] = A[:][id]\n",
    "        if link_sum != 0:\n",
    "            A[:, id] /= link_sum\n",
    "        A[:, id] *= -d\n",
    "        A[id, id] = 1\n",
    "    B = (1-d) * np.ones((matrix_size, 1))\n",
    "    ranks = np.linalg.solve(A, B) #연립방적식 Ax = b\n",
    "    return {idx: r[0] for idx, r in enumerate(ranks)}"
   ]
  },
  {
   "cell_type": "code",
   "execution_count": 62,
   "id": "136c70fc",
   "metadata": {},
   "outputs": [
    {
     "data": {
      "text/plain": [
       "{0: 1.579591532154613,\n",
       " 1: 1.6029306007631807,\n",
       " 2: 1.1492272382786937,\n",
       " 3: 0.5370085686315698,\n",
       " 4: 0.5472577442493085,\n",
       " 5: 0.7318638207335914,\n",
       " 6: 0.9952284926336418,\n",
       " 7: 0.597551793149984,\n",
       " 8: 0.3937502468161183,\n",
       " 9: 0.6595152927757132,\n",
       " 10: 1.2881336048932919,\n",
       " 11: 1.1383741642856502,\n",
       " 12: 1.471007137919255,\n",
       " 13: 1.174048408994206,\n",
       " 14: 1.2404403677846052,\n",
       " 15: 0.5230434693529995,\n",
       " 16: 1.0837968247126766,\n",
       " 17: 1.2872306918708925}"
      ]
     },
     "execution_count": 62,
     "metadata": {},
     "output_type": "execute_result"
    }
   ],
   "source": [
    "sent_rank_idx = get_ranks(sent_graph) # sent_graph : sentence 가중치 그래프\n",
    "sent_rank_idx"
   ]
  },
  {
   "cell_type": "code",
   "execution_count": 64,
   "id": "a517bcc0",
   "metadata": {},
   "outputs": [
    {
     "name": "stdout",
     "output_type": "stream",
     "text": [
      "[1, 0, 12, 10, 17, 14, 13, 2, 11, 16, 6, 5, 9, 7, 4, 3, 15, 8]\n"
     ]
    }
   ],
   "source": [
    "sorted_sent_rank_idx = sorted(sent_rank_idx, key = lambda k: sent_rank_idx[k], reverse=True)\n",
    "print(sorted_sent_rank_idx)"
   ]
  },
  {
   "cell_type": "code",
   "execution_count": 65,
   "id": "7ce92d32",
   "metadata": {},
   "outputs": [],
   "source": [
    "word_rank_idx = get_ranks(words_graph)\n",
    "sorted_word_rank_idx = sorted(word_rank_idx, key=lambda k: word_rank_idx[k], reverse=True)"
   ]
  },
  {
   "cell_type": "markdown",
   "id": "7a510a1f",
   "metadata": {},
   "source": [
    "# 요약하기 실행"
   ]
  },
  {
   "cell_type": "code",
   "execution_count": 66,
   "id": "b09d7bba",
   "metadata": {},
   "outputs": [],
   "source": [
    "def summarize(sent_num=5):\n",
    "    summary = []\n",
    "    index= []\n",
    "    for idx in sorted_sent_rank_idx[:sent_num]:\n",
    "        index.append(idx)\n",
    "    index.sort()\n",
    "    \n",
    "    for idx in index:\n",
    "        summary.append(sentences[idx])\n",
    "        \n",
    "    for text in summary :\n",
    "        print(text)\n",
    "        print(\"\\n\")"
   ]
  },
  {
   "cell_type": "code",
   "execution_count": 80,
   "id": "3da10a7a",
   "metadata": {},
   "outputs": [
    {
     "name": "stdout",
     "output_type": "stream",
     "text": [
      "비주류, 당 지도부 희생 압박… 금융 전문가 출신 洪 \" 객관적 주장도 당리 당략 이유로 폄하돼\" 더 불어 민주당 홍성 국 의원이 내년 총선 불출마를 선언했다.\n",
      "\n",
      "\n",
      "미래에 셋 대우( 현 미래에 셋증권) 사장 출신으로 21대 총선에서 세종 시 갑에 전략 공천된 홍 의원은 불출마를 결심한 이유로 \" 저는 지난 4년 간 국회의원으로서 나름 새로운 시각으로 우리 사회를 바꿔 보려 노력했지만 지금의 후진 적인 정치 구조가 가지고 있는 한계로 인해 성과를 내지 못했다\" 고 말했다\" 고 토로 했다.\n",
      "\n",
      "\n",
      "전날 국민의 힘 중진 장 제원 의원에 이어 이날엔 홍 의원이 불출마를 선언하면서 양당의 혁신 경쟁이 본격적으로 전개될 것으로 보인다.\n",
      "\n",
      "\n",
      "현재까지 민주당에서 불출마 선언을 한 의원은 21대 전반기 국회의장을 지낸 박 병석 의원 (6 선) 을 제외하면 우 상호 의원 (4 선), 오 영 환· 강 민정( 초 선) 의원, 홍 의원까지 4명이다.\n",
      "\n",
      "\n"
     ]
    }
   ],
   "source": [
    "summarize(4)"
   ]
  },
  {
   "cell_type": "code",
   "execution_count": 71,
   "id": "56415727",
   "metadata": {},
   "outputs": [],
   "source": [
    "def keywords(word_num=10):\n",
    "    keywords = []\n",
    "    index=[]\n",
    "    for idx in sorted_word_rank_idx[:word_num]:\n",
    "        index.append(idx)\n",
    "        \n",
    "    for idx in index:\n",
    "        keywords.append(idx2word[idx])\n",
    "        \n",
    "    print(keywords)"
   ]
  },
  {
   "cell_type": "code",
   "execution_count": 73,
   "id": "65535173",
   "metadata": {},
   "outputs": [
    {
     "name": "stdout",
     "output_type": "stream",
     "text": [
      "['의원', '사회', '국민', '이유', '불출', '구조', '민주당', '정치', '우리', '혁신']\n"
     ]
    }
   ],
   "source": [
    "keywords()"
   ]
  },
  {
   "cell_type": "code",
   "execution_count": 82,
   "id": "58e95043",
   "metadata": {},
   "outputs": [
    {
     "data": {
      "text/plain": [
       "['비주류, 당 지도부 희생 압박… 금융 전문가 출신 洪 \" 객관적 주장도 당리 당략 이유로 폄하돼\" 더 불어 민주당 홍성 국 의원이 내년 총선 불출마를 선언했다.',\n",
       " '미래에 셋 대우( 현 미래에 셋증권) 사장 출신으로 21대 총선에서 세종 시 갑에 전략 공천된 홍 의원은 불출마를 결심한 이유로 \" 저는 지난 4년 간 국회의원으로서 나름 새로운 시각으로 우리 사회를 바꿔 보려 노력했지만 지금의 후진 적인 정치 구조가 가지고 있는 한계로 인해 성과를 내지 못했다\" 고 말했다\" 고 토로 했다.',\n",
       " '홍 의원은 13일 불출마 선언문을 통해 \" 저는 지난 4년 간 국회의원으로서 나름 새로운 시각으로 우리 사회를 바꿔 보려 노력했다 \"며 \" 대전환을 경고하고 대안을 만드는 것이 제가 정치를 하는 목적 이자 소임이라고 생각했다\" 고 말했다.',\n",
       " '그는 \" 한국 사회는 양극화 해소, 저 출생· 고령화, 기후변화, 국토 균형 발전, 산업 구조 전환, 국민 연금· 건강 보험 개혁 등과 같은 혁명 수준으로 바꿔야 할 문제들이 산적해 있다 \"며 \" 때로는 객관적인 주장마저 도 당리 당략을 이유로 폄하 받기도 했다\" 고 했다.',\n",
       " '이어 \" 제로 섬 정치는 오히려 사회 불평등을 심화시키고, 민주주의를 위기에 빠뜨리고 있다 \"며 \" 특히 윤석 열 정부는 80년대 낡은 이념으로 우리나라를 후진시키고 있다\" 고 지적했다.',\n",
       " '그러면서 \" 이런 한계에 대해 오랜 시간 고민한 저는 국회의원보다는 국민과 직접 소통하고 우리나라의 미래 비전을 만드는 \\' 미래 학 연구자\\' 로 다시 돌아가려고 한다\" 고 말했다.',\n",
       " '홍 의원은 \" 제가 잘할 수 있는 분야에서 역할을 하는 것이 국가를 위하는 더 나은 길\" 이라며 \" 민주 당원으로서 좋은 정책을 만들어 우리 당과 사회에 제안하는 1 인 싱크 탱크 역할을 하려고 한다\" 고 했다.',\n",
       " '그는 \" 제가 잘할 수 있는 분야에서 역할을 하는 것이 국가를 위하는 더 나은 길이라 생각한다 \"며 세종시민 그리고 당원 동지 여러분, 그동안 부족한 저를 많이 사랑해 주셔서 진심으로 감사했다.',\n",
       " '사명을 이어 가지 못한 데 대해서는 사죄의 말씀을 드린다\" 고 했다.',\n",
       " '총선 D-120 이었던',\n",
       " '전날 국민의 힘 중진 장 제원 의원에 이어 이날엔 홍 의원이 불출마를 선언하면서 양당의 혁신 경쟁이 본격적으로 전개될 것으로 보인다.',\n",
       " '다만 국민의 힘에 선 중 진급에서 불출마‧ 험지 출마 논의가 오가는 것과 달리, 민주당에 선 초선의원 몇몇만 불출마를 고심 중인 것으로 알려 져 혁신 경쟁에서 밀린다는 지적이 나오고 있다.',\n",
       " '현재까지 민주당에서 불출마 선언을 한 의원은 21대 전반기 국회의장을 지낸 박 병석 의원 (6 선) 을 제외하면 우 상호 의원 (4 선), 오 영 환· 강 민정( 초 선) 의원, 홍 의원까지 4명이다.',\n",
       " \"민주당 비주류에서는 ' 혁신 실패는 총선 필 패 '를 명분으로 당 지도부 희생을 요구하는 목소리가 나온다.\",\n",
       " '당내 비주류 의원 모임 \\' 원칙과 상식\\' 소속 조응 천 의원은 전날 SBS 라디오 인터뷰에서 \" 국민의 힘만 하더라도 인요한 혁신 위 보고서에 대해 \\' 앞으로 질서 있게 반영하겠다\\' 고 해서 진압된 것처럼 보이고 찻잔 속 태풍으로 끝나는 것처럼 보였는데, 갑자기 장 의원으로 일대 돌풍이 일고 있다.',\n",
       " '정치라는 게 한 순간에 어떻게 될지 모른다\" 고 당내 변화를 요구했다.',\n",
       " '민주당 초선 의원인 이소 영 의원은 13일 오전 문화방송 (MBC) 라디오 < 김 종배의 시선집중 >에서 \" 민주당도 달라지는 모습을 보여야 될 것\" 이라며 \" 나와 가까운 사람에게 엄정한 모습을 보이고 또 내가 가지고 있는 그런 권력들을 조금씩 내려놓는 그런 모습들 민주당에게도 필요 하다고 생각한다\" 고 말했다.',\n",
       " '▲ 더 불어 민주당 홍성 국 의원. ⓒ 홍 의원 페이스 북 갈무리']"
      ]
     },
     "execution_count": 82,
     "metadata": {},
     "output_type": "execute_result"
    }
   ],
   "source": [
    "sentences"
   ]
  },
  {
   "cell_type": "code",
   "execution_count": null,
   "id": "8b4984a2",
   "metadata": {},
   "outputs": [],
   "source": []
  }
 ],
 "metadata": {
  "kernelspec": {
   "display_name": "Python 3 (ipykernel)",
   "language": "python",
   "name": "python3"
  },
  "language_info": {
   "codemirror_mode": {
    "name": "ipython",
    "version": 3
   },
   "file_extension": ".py",
   "mimetype": "text/x-python",
   "name": "python",
   "nbconvert_exporter": "python",
   "pygments_lexer": "ipython3",
   "version": "3.11.4"
  }
 },
 "nbformat": 4,
 "nbformat_minor": 5
}
