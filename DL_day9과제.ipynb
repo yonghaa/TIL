{
 "cells": [
  {
   "cell_type": "code",
   "execution_count": 1,
   "id": "314c34aa",
   "metadata": {},
   "outputs": [],
   "source": [
    "import re\n",
    "from konlpy.tag import Okt\n",
    "from tensorflow.keras.preprocessing.text import Tokenizer\n",
    "from tensorflow.keras.preprocessing.sequence import pad_sequences\n",
    "from tensorflow.keras.models import load_model"
   ]
  },
  {
   "cell_type": "code",
   "execution_count": 2,
   "id": "37cde979",
   "metadata": {},
   "outputs": [],
   "source": [
    "okt = Okt()\n",
    "tokenizer = Tokenizer()\n",
    "loaded_model = load_model('best_model.h5')"
   ]
  },
  {
   "cell_type": "code",
   "execution_count": 13,
   "id": "46e42e49",
   "metadata": {},
   "outputs": [],
   "source": [
    "def sentiment_predict(text):\n",
    "    text = re.sub(\"[^ㄱ-ㅎㅏ-ㅣ가-힣 ]\",\"\", text)\n",
    "    text = okt.morphs(text)\n",
    "    stopwords = ['도', '는', '다', '의', '가', '이', '은', '한', '에', '하', '고', '을', '를', '인', '듯', '과', '와', '네', '들', '듯', '지', '임', '게']\n",
    "    text = [word for word in text if word not in stopwords] #불용어 제거\n",
    "    \n",
    "    tokenizer.fit_on_texts([text]) # 토큰화\n",
    "    text = tokenizer.texts_to_sequences([text]) # 단어마다 인덱스번호\n",
    "    text = pad_sequences(text, maxlen=39)  \n",
    "    score = float(loaded_model.predict(text))\n",
    "    if score > 0.5:\n",
    "        print(f\"{score * 100:.2f}%, 긍정\")\n",
    "    else:\n",
    "        print(f\"{(1-score) * 100:.2f}%, 부정\")"
   ]
  },
  {
   "cell_type": "code",
   "execution_count": 14,
   "id": "353f32e2",
   "metadata": {},
   "outputs": [
    {
     "name": "stdout",
     "output_type": "stream",
     "text": [
      "1/1 [==============================] - 0s 18ms/step\n",
      "88.15%, 긍정\n"
     ]
    }
   ],
   "source": [
    "sentiment_predict('이 제품 너무 좋은데요. 정말 좋아요. 강추합니다')"
   ]
  },
  {
   "cell_type": "code",
   "execution_count": 15,
   "id": "83183e2e",
   "metadata": {},
   "outputs": [
    {
     "name": "stdout",
     "output_type": "stream",
     "text": [
      "1/1 [==============================] - 0s 19ms/step\n",
      "95.01%, 부정\n"
     ]
    }
   ],
   "source": [
    "sentiment_predict('이것도 상품인가요? 정말 화가 납니다. 분노가 치밀어요. 개짜증납니다.')"
   ]
  },
  {
   "cell_type": "code",
   "execution_count": null,
   "id": "b5c4abc6",
   "metadata": {},
   "outputs": [],
   "source": []
  }
 ],
 "metadata": {
  "kernelspec": {
   "display_name": "Python 3 (ipykernel)",
   "language": "python",
   "name": "python3"
  },
  "language_info": {
   "codemirror_mode": {
    "name": "ipython",
    "version": 3
   },
   "file_extension": ".py",
   "mimetype": "text/x-python",
   "name": "python",
   "nbconvert_exporter": "python",
   "pygments_lexer": "ipython3",
   "version": "3.11.4"
  }
 },
 "nbformat": 4,
 "nbformat_minor": 5
}
