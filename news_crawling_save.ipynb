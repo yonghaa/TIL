{
 "cells": [
  {
   "cell_type": "code",
   "execution_count": 1,
   "metadata": {},
   "outputs": [
    {
     "name": "stdout",
     "output_type": "stream",
     "text": [
      "Requirement already satisfied: selenium in c:\\users\\user\\appdata\\local\\programs\\python\\python312\\lib\\site-packages (4.16.0)\n",
      "Requirement already satisfied: urllib3[socks]<3,>=1.26 in c:\\users\\user\\appdata\\local\\programs\\python\\python312\\lib\\site-packages (from selenium) (2.1.0)\n",
      "Requirement already satisfied: trio~=0.17 in c:\\users\\user\\appdata\\local\\programs\\python\\python312\\lib\\site-packages (from selenium) (0.23.1)\n",
      "Requirement already satisfied: trio-websocket~=0.9 in c:\\users\\user\\appdata\\local\\programs\\python\\python312\\lib\\site-packages (from selenium) (0.11.1)\n",
      "Requirement already satisfied: certifi>=2021.10.8 in c:\\users\\user\\appdata\\local\\programs\\python\\python312\\lib\\site-packages (from selenium) (2023.11.17)\n",
      "Requirement already satisfied: attrs>=20.1.0 in c:\\users\\user\\appdata\\local\\programs\\python\\python312\\lib\\site-packages (from trio~=0.17->selenium) (23.1.0)\n",
      "Requirement already satisfied: sortedcontainers in c:\\users\\user\\appdata\\local\\programs\\python\\python312\\lib\\site-packages (from trio~=0.17->selenium) (2.4.0)\n",
      "Requirement already satisfied: idna in c:\\users\\user\\appdata\\local\\programs\\python\\python312\\lib\\site-packages (from trio~=0.17->selenium) (3.6)\n",
      "Requirement already satisfied: outcome in c:\\users\\user\\appdata\\local\\programs\\python\\python312\\lib\\site-packages (from trio~=0.17->selenium) (1.3.0.post0)\n",
      "Requirement already satisfied: sniffio>=1.3.0 in c:\\users\\user\\appdata\\local\\programs\\python\\python312\\lib\\site-packages (from trio~=0.17->selenium) (1.3.0)\n",
      "Requirement already satisfied: cffi>=1.14 in c:\\users\\user\\appdata\\local\\programs\\python\\python312\\lib\\site-packages (from trio~=0.17->selenium) (1.16.0)\n",
      "Requirement already satisfied: wsproto>=0.14 in c:\\users\\user\\appdata\\local\\programs\\python\\python312\\lib\\site-packages (from trio-websocket~=0.9->selenium) (1.2.0)\n",
      "Requirement already satisfied: pysocks!=1.5.7,<2.0,>=1.5.6 in c:\\users\\user\\appdata\\local\\programs\\python\\python312\\lib\\site-packages (from urllib3[socks]<3,>=1.26->selenium) (1.7.1)\n",
      "Requirement already satisfied: pycparser in c:\\users\\user\\appdata\\local\\programs\\python\\python312\\lib\\site-packages (from cffi>=1.14->trio~=0.17->selenium) (2.21)\n",
      "Requirement already satisfied: h11<1,>=0.9.0 in c:\\users\\user\\appdata\\local\\programs\\python\\python312\\lib\\site-packages (from wsproto>=0.14->trio-websocket~=0.9->selenium) (0.14.0)\n",
      "Note: you may need to restart the kernel to use updated packages.\n"
     ]
    },
    {
     "name": "stderr",
     "output_type": "stream",
     "text": [
      "\n",
      "[notice] A new release of pip is available: 23.2.1 -> 23.3.1\n",
      "[notice] To update, run: python.exe -m pip install --upgrade pip\n"
     ]
    }
   ],
   "source": [
    "pip install selenium"
   ]
  },
  {
   "cell_type": "code",
   "execution_count": 2,
   "metadata": {},
   "outputs": [
    {
     "name": "stdout",
     "output_type": "stream",
     "text": [
      "Requirement already satisfied: pandas in c:\\users\\user\\appdata\\local\\programs\\python\\python312\\lib\\site-packages (2.1.4)\n",
      "Requirement already satisfied: numpy<2,>=1.26.0 in c:\\users\\user\\appdata\\local\\programs\\python\\python312\\lib\\site-packages (from pandas) (1.26.2)\n",
      "Requirement already satisfied: python-dateutil>=2.8.2 in c:\\users\\user\\appdata\\roaming\\python\\python312\\site-packages (from pandas) (2.8.2)\n",
      "Requirement already satisfied: pytz>=2020.1 in c:\\users\\user\\appdata\\local\\programs\\python\\python312\\lib\\site-packages (from pandas) (2023.3.post1)\n",
      "Requirement already satisfied: tzdata>=2022.1 in c:\\users\\user\\appdata\\local\\programs\\python\\python312\\lib\\site-packages (from pandas) (2023.3)\n",
      "Requirement already satisfied: six>=1.5 in c:\\users\\user\\appdata\\roaming\\python\\python312\\site-packages (from python-dateutil>=2.8.2->pandas) (1.16.0)\n",
      "Note: you may need to restart the kernel to use updated packages.\n"
     ]
    },
    {
     "name": "stderr",
     "output_type": "stream",
     "text": [
      "\n",
      "[notice] A new release of pip is available: 23.2.1 -> 23.3.1\n",
      "[notice] To update, run: python.exe -m pip install --upgrade pip\n"
     ]
    }
   ],
   "source": [
    "pip install pandas"
   ]
  },
  {
   "cell_type": "code",
   "execution_count": 3,
   "metadata": {},
   "outputs": [
    {
     "name": "stdout",
     "output_type": "stream",
     "text": [
      "Requirement already satisfied: psycopg2 in c:\\users\\user\\appdata\\local\\programs\\python\\python312\\lib\\site-packages (2.9.9)\n",
      "Note: you may need to restart the kernel to use updated packages.\n"
     ]
    },
    {
     "name": "stderr",
     "output_type": "stream",
     "text": [
      "\n",
      "[notice] A new release of pip is available: 23.2.1 -> 23.3.1\n",
      "[notice] To update, run: python.exe -m pip install --upgrade pip\n"
     ]
    }
   ],
   "source": [
    "pip install psycopg2"
   ]
  },
  {
   "cell_type": "code",
   "execution_count": 5,
   "metadata": {},
   "outputs": [
    {
     "name": "stdout",
     "output_type": "stream",
     "text": [
      "5228559.jpg\n",
      "3266762.jpg\n",
      "2778166.jpg\n",
      "1012886.jpg\n",
      "795685.jpg\n",
      "1113501.jpg\n",
      "3415718.jpg\n",
      "4924195.jpg\n",
      "5228543.jpg\n",
      "11619935.jpg\n",
      "5228538.jpg\n",
      "5228537.jpg\n",
      "1317702.jpg\n",
      "3883926.jpg\n",
      "4972696.jpg\n",
      "370356.jpg\n",
      "2842615.jpg\n",
      "362313.jpg\n",
      "1317693.jpg\n",
      "5635899.jpg\n"
     ]
    }
   ],
   "source": [
    "from selenium import webdriver\n",
    "from selenium.webdriver.common.by import By \n",
    "# By클래스는 웹 요소를 식별하는데 사용되는 다양한 기준을 제공\n",
    "from selenium.webdriver.support.ui import WebDriverWait \n",
    "# WebDriverWait 클래스는 Selenium에서 특정 조건이 충족될 때까지 대기하는 데 사용\n",
    "from selenium.webdriver.support import expected_conditions as EC\n",
    "# EC모듈은 웹 요소가 특정 상태에 도달할 때까지 대기하기 위한 조건들을 제공, 보통 WebDriverWait클래스와 함께 사용\n",
    "# import time #timesleep\n",
    "import pandas as pd\n",
    "import psycopg2\n",
    "# PostgreSQL 데이터베이스에 연결하고 상호 작용하기 위한 psycopg2모듈을 현재 스크립트에 임포트\n",
    "from urllib.request import urlretrieve\n",
    "# python내장 모듈, urllib.request에서 urlretrieve 함수를 현재 스크립트에 임포트하는 코드\n",
    "# 주어진URL에서 파일을 다운로드 하는데 사용(ex \"local_file.jpg\" jpg로 저장) \n",
    "import re\n",
    "\n",
    "driver = webdriver.Chrome()\n",
    "driver.implicitly_wait(3)\n",
    "\n",
    "url = 'https://news.naver.com/main/main.naver?mode=LSD&mid=shm&sid1=101'\n",
    "driver = webdriver.Chrome()\n",
    "driver.get(url)\n",
    "\n",
    "post_list = driver.find_elements(By.XPATH, '//*[@id=\"section_body\"]/ul/li')\n",
    "posts = []\n",
    "for i in post_list:\n",
    "    post = i.find_element(By.XPATH, 'dl/dt[2]/a')\n",
    "    news_title = post.text\n",
    "    link = post.get_attribute('href')\n",
    "    try:\n",
    "        news_image = i.find_element(By.XPATH, 'dl/dt[1]/a/img')\n",
    "        news_image_url = news_image.get_attribute('src')\n",
    "                # 정규표현식으로 숫자만 추출하여 파일 이름 생성\n",
    "        match = re.search(r'(\\d+)\\.jpg', news_image_url)\n",
    "        if match:\n",
    "            news_image_name = match.group(1) + '.jpg'\n",
    "        else:\n",
    "            news_image_name = ''  # 추출 실패 시 빈 문자열로 설정\n",
    "        print(news_image_name)\n",
    "        news_image = news_image_url.replace('https', 'http')\n",
    "        news_image_path = f'C:/Users/user/Desktop/news_crawling/news_image/{news_image_name}'\n",
    "        urlretrieve(news_image, news_image_path)\n",
    "    except:\n",
    "        news_image_path = ''\n",
    "    driver.execute_script(f\"window.open('{link}', '_blank');\")\n",
    "    driver.switch_to.window(driver.window_handles[1])\n",
    "    post_origin = driver.find_element(By.XPATH, '//*[@id=\"dic_area\"]')\n",
    "    post_origin_text = post_origin.text\n",
    "    posts.append([news_title,post_origin_text,link,news_image_path])\n",
    "    driver.close()\n",
    "    driver.switch_to.window(driver.window_handles[0])\n",
    "driver.quit()"
   ]
  },
  {
   "cell_type": "code",
   "execution_count": null,
   "metadata": {},
   "outputs": [],
   "source": []
  }
 ],
 "metadata": {
  "kernelspec": {
   "display_name": "Python 3",
   "language": "python",
   "name": "python3"
  },
  "language_info": {
   "codemirror_mode": {
    "name": "ipython",
    "version": 3
   },
   "file_extension": ".py",
   "mimetype": "text/x-python",
   "name": "python",
   "nbconvert_exporter": "python",
   "pygments_lexer": "ipython3",
   "version": "3.12.0"
  }
 },
 "nbformat": 4,
 "nbformat_minor": 2
}
