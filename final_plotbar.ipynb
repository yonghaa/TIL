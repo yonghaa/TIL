{
 "cells": [
  {
   "cell_type": "code",
   "execution_count": 2,
   "id": "aebd5413",
   "metadata": {},
   "outputs": [
    {
     "data": {
      "text/html": [
       "\n",
       "        <iframe\n",
       "            width=\"100%\"\n",
       "            height=\"650\"\n",
       "            src=\"http://127.0.0.1:8053/\"\n",
       "            frameborder=\"0\"\n",
       "            allowfullscreen\n",
       "            \n",
       "        ></iframe>\n",
       "        "
      ],
      "text/plain": [
       "<IPython.lib.display.IFrame at 0x26e87682410>"
      ]
     },
     "metadata": {},
     "output_type": "display_data"
    }
   ],
   "source": [
    "from dash import Dash, dcc, html, Input, Output\n",
    "import pandas as pd\n",
    "import psycopg2\n",
    "from kiwipiepy import Kiwi\n",
    "import plotly.express as px\n",
    "\n",
    "# 데이터베이스 연결\n",
    "db_connection = psycopg2.connect(\n",
    "    host=\"localhost\",\n",
    "    dbname=\"final_project\",\n",
    "    user=\"postgres\",\n",
    "    password=\"sesac0916\",\n",
    "    port=5432\n",
    ")\n",
    "\n",
    "cursor = db_connection.cursor()\n",
    "# SELECT 쿼리 실행\n",
    "cursor.execute(\"SELECT * FROM final_project.news_information;\")\n",
    "# 결과 가져오기\n",
    "result = cursor.fetchall()\n",
    "# 연결 종료\n",
    "cursor.close()\n",
    "db_connection.close()\n",
    "\n",
    "# 데이터프레임으로 불러오기\n",
    "df_news = pd.DataFrame(result, columns=['id', 'create_dt', 'media_company', 'news_genre', 'news_image_path', 'news_title', 'news_origin', 'news_url', 'news_summary'])\n",
    "\n",
    "# 'create_dt' 열을 datetime 형식으로 변환\n",
    "df_news['create_dt'] = pd.to_datetime(df_news['create_dt'])\n",
    "\n",
    "# Dash 앱 생성\n",
    "app = Dash(__name__)\n",
    "\n",
    "# 뉴스 장르와 날짜의 유니크 값들을 추출\n",
    "unique_genres = df_news['news_genre'].unique()\n",
    "\n",
    "app.layout = html.Div([\n",
    "    dcc.Graph(id=\"graph\"),\n",
    "    html.P(\"뉴스 장르:\"),\n",
    "    dcc.Dropdown(id='genres',\n",
    "        options=[{'label': genre, 'value': genre} for genre in unique_genres],\n",
    "        value=unique_genres[0], clearable=False\n",
    "    ),\n",
    "])\n",
    "\n",
    "@app.callback(\n",
    "    Output(\"graph\", \"figure\"), \n",
    "    Input(\"genres\", \"value\"))\n",
    "def generate_chart(selected_genre):\n",
    "    df_selected_data = df_news[df_news['news_genre'] == selected_genre]\n",
    "    df_crawled_count = df_selected_data.groupby(df_selected_data['create_dt'].dt.strftime('%m-%d')).size().reset_index(name='article_count')\n",
    "    \n",
    "    fig = px.bar(df_crawled_count, x='create_dt', y='article_count', labels={'create_dt': 'Date', 'article_count': 'Number of Articles'})\n",
    "    \n",
    "    # 그래프 제목 동적으로 설정\n",
    "    fig.update_layout(\n",
    "        title=f\"News Articles Count for {selected_genre} Genre\",\n",
    "        xaxis_title=\"Date\",\n",
    "        yaxis_title=\"Number of Articles\"\n",
    "    )\n",
    "    \n",
    "    return fig\n",
    "\n",
    "app.run_server(debug=True, port=8053)\n",
    "\n"
   ]
  },
  {
   "cell_type": "code",
   "execution_count": null,
   "id": "6f8d480e",
   "metadata": {},
   "outputs": [],
   "source": []
  }
 ],
 "metadata": {
  "kernelspec": {
   "display_name": "Python 3 (ipykernel)",
   "language": "python",
   "name": "python3"
  },
  "language_info": {
   "codemirror_mode": {
    "name": "ipython",
    "version": 3
   },
   "file_extension": ".py",
   "mimetype": "text/x-python",
   "name": "python",
   "nbconvert_exporter": "python",
   "pygments_lexer": "ipython3",
   "version": "3.11.4"
  }
 },
 "nbformat": 4,
 "nbformat_minor": 5
}
